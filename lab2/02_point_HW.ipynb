{
 "cells": [
  {
   "cell_type": "markdown",
   "metadata": {
    "collapsed": false
   },
   "source": [
    "# Zadanie domowe\n",
    "\n",
    "W przypadku obrazów w odcieniach szarości pojedynczy piksel z zakresu [0; 255] reprezentowany jest jako 8-bitowa liczba bez znaku.\n",
    "Pewnym rozszerzeniem analizy sposobu reprezentacji obrazu może być następujący eksperyment.\n",
    "Załóżmy, że z każdego z 8 bitów możemy stworzyć pojedynczy obraz binarny (ang. _bit-plane slicing_).\n",
    "Dla obrazka _100zloty.jpg_ (https://raw.githubusercontent.com/vision-agh/poc_sw/master/02_Point/100zloty.jpg) stwórz 8 obrazów, z których każdy powinien zawierać jedną płaszczyznę bitową.\n",
    "Podpowiedź $-$ warto sprawdzić, jak realizuje się bitowe operacje logiczne.\n",
    "Zastosowanie takiej dekompozycji obrazu pozwala na analizę ,,ważności'' poszczególnych bitów.\n",
    "Jest to użyteczne w kwantyzacji, ale także w kompresji.\n",
    "\n",
    "W drugim etapie zadania proszę spróbować odtworzyć obraz oryginalny z mniejszej liczby obrazów binarnych.\n",
    "Warto zacząć od dwóch najbardziej znaczących bitów, a później dodawać kolejne.\n",
    "Należy utworzyć co najmniej trzy wersje zrekonstruowanych obrazów.\n",
    "Podpowiedź $-$ rekonstrukcja obrazu to mnożenie przez odpowiednią potęgę liczby 2 (przesunięcie bitowe) oraz dodawanie."
   ]
  },
  {
   "cell_type": "code",
   "execution_count": null,
   "metadata": {},
   "outputs": [],
   "source": [
    "import cv2\n",
    "import numpy as np\n",
    "import matplotlib.pyplot as plt\n",
    "import os\n",
    "\n",
    "if not os.path.exists(\"100zloty.jpg\") :\n",
    "    !wget https://raw.githubusercontent.com/vision-agh/poc_sw/master/02_Point/100zloty.jpg\n",
    "\n",
    "sto = cv2.imread(\"100zloty.jpg\")\n",
    "sto_color = cv2.cvtColor(sto, cv2.COLOR_BGR2RGB)\n",
    "sto_gray = cv2.cvtColor(sto_color, cv2.COLOR_RGB2GRAY)\n",
    "\n",
    "power_2 = [2**x for x in range(8)]\n",
    "bits = []\n",
    "size = sto_gray.shape\n",
    "x = 1\n",
    "\n",
    "for bit in power_2:\n",
    "    z = (bit * np.ones(size)).astype('uint8')\n",
    "    bit = cv2.bitwise_and(sto_gray, z)\n",
    "    bits.append(bit)\n",
    "    plt.imshow(bit)\n",
    "    plt.xticks([])\n",
    "    plt.yticks([])\n",
    "    plt.title(f'bit numer {x}')\n",
    "    x += 1\n",
    "    plt.gray()\n",
    "    plt.show()\n",
    "\n",
    "rec_1 = cv2.add(bits[6],bits[0])\n",
    "rec_2 = cv2.add(bits[7],bits[6])\n",
    "rec_3 = cv2.add(bits[6],bits[2])\n",
    "f, (ax1,ax2,ax3) = plt.subplots(1,3)\n",
    "ax1.set_title('7 i 1 bit')\n",
    "ax2.set_title('8 i 7 bit')\n",
    "ax3.set_title('7 i 3 bit')\n",
    "ax1.imshow(rec_1)\n",
    "ax2.imshow(rec_2)\n",
    "ax3.imshow(rec_3)\n",
    "for ax in (ax1,ax2,ax3):\n",
    "    ax.set_xticks([])\n",
    "    ax.set_yticks([])\n",
    "plt.show()"
   ]
  }
 ],
 "metadata": {
  "kernelspec": {
   "display_name": "SysWiz",
   "language": "python",
   "name": "syswiz"
  },
  "language_info": {
   "codemirror_mode": {
    "name": "ipython",
    "version": 3
   },
   "file_extension": ".py",
   "mimetype": "text/x-python",
   "name": "python",
   "nbconvert_exporter": "python",
   "pygments_lexer": "ipython3",
   "version": "3.10.6"
  }
 },
 "nbformat": 4,
 "nbformat_minor": 0
}
